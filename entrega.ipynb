{
 "cells": [
  {
   "cell_type": "code",
   "execution_count": 1,
   "metadata": {},
   "outputs": [],
   "source": [
    "import os\n",
    "import cv2\n",
    "from deepface import DeepFace\n",
    "import FaceNormalizationUtils as faceutils\n",
    "import numpy as np\n",
    "import FaceDetectors\n"
   ]
  },
  {
   "cell_type": "code",
   "execution_count": 7,
   "metadata": {},
   "outputs": [
    {
     "name": "stdout",
     "output_type": "stream",
     "text": [
      "Cambiando fondo cada 5 segundos...\n"
     ]
    },
    {
     "name": "stderr",
     "output_type": "stream",
     "text": [
      "Action: race: 100%|██████████| 1/1 [00:00<00:00,  1.40it/s]\n",
      "Action: race: 100%|██████████| 1/1 [00:00<00:00,  1.30it/s]\n",
      "Action: race: 100%|██████████| 1/1 [00:00<00:00,  1.49it/s]\n",
      "Action: race: 100%|██████████| 1/1 [00:00<00:00,  1.48it/s]\n",
      "Action: race: 100%|██████████| 1/1 [00:00<00:00,  1.37it/s]\n"
     ]
    },
    {
     "name": "stdout",
     "output_type": "stream",
     "text": [
      "Cambiando fondo cada 5 segundos...\n"
     ]
    },
    {
     "name": "stderr",
     "output_type": "stream",
     "text": [
      "Action: race: 100%|██████████| 1/1 [00:00<00:00,  1.35it/s]\n",
      "Action: race: 100%|██████████| 1/1 [00:00<00:00,  1.45it/s]\n",
      "Action: race: 100%|██████████| 1/1 [00:00<00:00,  1.40it/s]\n",
      "Action: race: 100%|██████████| 1/1 [00:00<00:00,  1.54it/s]\n",
      "Action: race: 100%|██████████| 1/1 [00:00<00:00,  1.46it/s]\n",
      "Action: race: 100%|██████████| 1/1 [00:00<00:00,  1.34it/s]\n"
     ]
    },
    {
     "name": "stdout",
     "output_type": "stream",
     "text": [
      "Cambiando fondo cada 5 segundos...\n"
     ]
    },
    {
     "name": "stderr",
     "output_type": "stream",
     "text": [
      "Action: race: 100%|██████████| 1/1 [00:00<00:00,  1.32it/s]\n",
      "Action: race: 100%|██████████| 1/1 [00:00<00:00,  1.46it/s]\n",
      "Action: race: 100%|██████████| 1/1 [00:00<00:00,  1.45it/s]\n",
      "Action: race: 100%|██████████| 1/1 [00:00<00:00,  1.48it/s]\n",
      "Action: race: 100%|██████████| 1/1 [00:00<00:00,  1.45it/s]\n",
      "Action: race: 100%|██████████| 1/1 [00:00<00:00,  1.55it/s]\n",
      "Action: race:   0%|          | 0/1 [00:00<?, ?it/s]   "
     ]
    },
    {
     "name": "stdout",
     "output_type": "stream",
     "text": [
      "Cambiando fondo cada 5 segundos...\n"
     ]
    },
    {
     "name": "stderr",
     "output_type": "stream",
     "text": [
      "Action: race: 100%|██████████| 1/1 [00:00<00:00,  1.48it/s]\n",
      "Action: race: 100%|██████████| 1/1 [00:00<00:00,  1.64it/s]\n",
      "Action: race: 100%|██████████| 1/1 [00:00<00:00,  1.59it/s]\n",
      "Action: race: 100%|██████████| 1/1 [00:00<00:00,  1.54it/s]\n",
      "Action: race: 100%|██████████| 1/1 [00:00<00:00,  1.54it/s]\n",
      "Action: race: 100%|██████████| 1/1 [00:00<00:00,  1.37it/s]\n",
      "Action: race: 100%|██████████| 1/1 [00:00<00:00,  1.43it/s]"
     ]
    },
    {
     "name": "stdout",
     "output_type": "stream",
     "text": [
      "Cambiando fondo cada 5 segundos...\n"
     ]
    },
    {
     "name": "stderr",
     "output_type": "stream",
     "text": [
      "\n",
      "Action: race: 100%|██████████| 1/1 [00:00<00:00,  1.41it/s]\n",
      "Action: race: 100%|██████████| 1/1 [00:00<00:00,  1.50it/s]\n"
     ]
    },
    {
     "name": "stdout",
     "output_type": "stream",
     "text": [
      "Cambiando fondo cada 5 segundos...\n"
     ]
    },
    {
     "name": "stderr",
     "output_type": "stream",
     "text": [
      "Exception in thread Thread-9 (cambiar_fondo):\n",
      "Traceback (most recent call last):\n",
      "  File \"c:\\conda_envs\\VC_P1\\Lib\\threading.py\", line 1038, in _bootstrap_inner\n",
      "    self.run()\n",
      "  File \"c:\\conda_envs\\VC_P1\\Lib\\threading.py\", line 975, in run\n",
      "    self._target(*self._args, **self._kwargs)\n",
      "  File \"C:\\Users\\Eduardo Etopa\\AppData\\Local\\Temp\\ipykernel_7864\\3908230334.py\", line 52, in cambiar_fondo\n",
      "cv2.error: OpenCV(4.8.0) D:\\a\\opencv-python\\opencv-python\\opencv\\modules\\imgproc\\src\\resize.cpp:4065: error: (-215:Assertion failed) inv_scale_x > 0 in function 'cv::resize'\n",
      "\n"
     ]
    }
   ],
   "source": [
    "import cv2\n",
    "import threading\n",
    "import time\n",
    "from deepface import DeepFace\n",
    "\n",
    "# Initialize normalization\n",
    "normalizatorHS = faceutils.Normalization()\n",
    "\n",
    "# Initialize face detector\n",
    "FDet = FaceDetectors.FaceDetector()\n",
    "\n",
    "# Fonts\n",
    "font = cv2.FONT_HERSHEY_SIMPLEX\n",
    "\n",
    "# Webcam connection\n",
    "cap = cv2.VideoCapture(0)\n",
    "\n",
    "# Set camera resolution\n",
    "cap.set(3, 640)\n",
    "cap.set(4, 480)\n",
    "\n",
    "# Inicializar fondo predeterminado\n",
    "wano = cv2.imread('media/wano.jpg')\n",
    "wano = cv2.resize(wano, (int(cap.get(3)), int(cap.get(4))))\n",
    "\n",
    "# Variable para almacenar el fondo actual\n",
    "background = wano\n",
    "\n",
    "# Variable para almacenar la raza detectada\n",
    "race_detected = \"\"\n",
    "\n",
    "# Función para cambiar el fondo cada 5 segundos\n",
    "def cambiar_fondo():\n",
    "    global background, race_detected\n",
    "    while True:\n",
    "        print(\"Cambiando fondo cada 5 segundos...\")\n",
    "\n",
    "        # Lógica para cambiar el fondo según la raza detectada\n",
    "        if race_detected == \"asian\":\n",
    "            background = cv2.imread('media/wano.jpg')\n",
    "        elif race_detected == \"black\":\n",
    "            background = cv2.imread('media/savannah.jpg')\n",
    "        elif race_detected == \"white\":\n",
    "            background = cv2.imread('media/de_blanco.jpg')\n",
    "        elif race_detected == \"indian\":\n",
    "            background = cv2.imread('media/Taj_Mahal.jpg')\n",
    "        elif race_detected == \"middle eastern\":\n",
    "            background = cv2.imread('media/mezquita.jpg')\n",
    "        elif race_detected == \"latino hispanic\":\n",
    "            background = cv2.imread('media/brazil.jpg')\n",
    "\n",
    "        background = cv2.resize(background, (int(cap.get(3)), int(cap.get(4))))\n",
    "\n",
    "        # Esperar 5 segundos antes de cambiar el fondo nuevamente\n",
    "        time.sleep(5)\n",
    "\n",
    "# Crear un hilo para cambiar el fondo cada 5 segundos\n",
    "fondo_thread = threading.Thread(target=cambiar_fondo)\n",
    "fondo_thread.start()\n",
    "\n",
    "while True:\n",
    "    # Obtener el frame actual\n",
    "    ret, frame = cap.read()\n",
    "\n",
    "    # Para HS normalization\n",
    "    B, G, R = cv2.split(frame)\n",
    "    result = frame.copy()\n",
    "    values = FDet.SingleFaceEyesDetection(frame, FDet.FaceDetectors[1], FDet.EyeDetectors[1])\n",
    "\n",
    "    if values is not None:\n",
    "        face, eyes, shape = values\n",
    "\n",
    "        # Dibujar el contenedor de la cara\n",
    "        [x, y, w, h] = face\n",
    "        if x > -1:\n",
    "            cv2.rectangle(result, (x, y), (x + w, y + h), (255, 0, 0), 2)\n",
    "            face_roi = frame[y:y+h, x:x+w]\n",
    "\n",
    "            # Ejemplo de análisis de raza utilizando DeepFace\n",
    "            obj = DeepFace.analyze(img_path=face_roi, enforce_detection=False, actions=['race'])\n",
    "            race_detected = obj[0][\"dominant_race\"]\n",
    "\n",
    "            # Superponer la región de la cara en el fondo\n",
    "            background = cv2.resize(background, (int(cap.get(3)), int(cap.get(4))))\n",
    "            result = background.copy()\n",
    "            result[y:y+h, x:x+w] = cv2.addWeighted(face_roi, 0.9, result[y:y+h, x:x+w], 0.1, 0)\n",
    "\n",
    "    # Mostrar el resultado\n",
    "    cv2.imshow('Result', result)\n",
    "\n",
    "    # Presionar 'Esc' para finalizar\n",
    "    key = cv2.waitKey(40)\n",
    "    if key == 27:  # Esc\n",
    "        break\n",
    "\n",
    "# Cerrar ventanas y liberar la cámara\n",
    "cap.release()\n",
    "cv2.destroyAllWindows()\n",
    "\n"
   ]
  },
  {
   "cell_type": "code",
   "execution_count": null,
   "metadata": {},
   "outputs": [],
   "source": [
    "\n",
    "cap = cv2.VideoCapture(0)\n",
    "background = cv2.imread('media/africa.jpg')\n",
    "background = cv2.resize(background, (int(cap.get(3)), int(cap.get(4))))\n",
    "\n",
    "while True:\n",
    "    ret, frame = cap.read()\n",
    "    result = cv2.addWeighted(frame, 0.8, background, 0.7, 0)\n",
    "\n",
    "    cv2.imshow('Result', result)\n",
    "\n",
    "    if cv2.waitKey(1) & 0xFF == ord('q'):\n",
    "        break\n",
    "\n",
    "cap.release()\n",
    "cv2.destroyAllWindows()"
   ]
  },
  {
   "cell_type": "code",
   "execution_count": null,
   "metadata": {},
   "outputs": [],
   "source": [
    "folder = './media'\n",
    "\n",
    "print(folder)\n",
    "\n",
    "for file_name in os.listdir(folder):\n",
    "    # Asume imágenes en formato png o jpg\n",
    "    if file_name.endswith('.png') or file_name.endswith('.jpg'):\n",
    "        # Procesa la imagen que asume hay cara, no fuerza la detección\n",
    "        obj = DeepFace.analyze(img_path = os.path.join(folder, file_name), enforce_detection=False, actions =['race'])\n",
    "        print(file_name)\n",
    "        print(obj[0]['race'])\n",
    "       \n",
    "    "
   ]
  }
 ],
 "metadata": {
  "kernelspec": {
   "display_name": "VC_practica1",
   "language": "python",
   "name": "python3"
  },
  "language_info": {
   "codemirror_mode": {
    "name": "ipython",
    "version": 3
   },
   "file_extension": ".py",
   "mimetype": "text/x-python",
   "name": "python",
   "nbconvert_exporter": "python",
   "pygments_lexer": "ipython3",
   "version": "3.11.5"
  }
 },
 "nbformat": 4,
 "nbformat_minor": 2
}
