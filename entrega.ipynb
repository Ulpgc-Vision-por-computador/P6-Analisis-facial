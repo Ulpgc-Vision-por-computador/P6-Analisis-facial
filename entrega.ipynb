{
 "cells": [
  {
   "cell_type": "code",
   "execution_count": 1,
   "metadata": {},
   "outputs": [
    {
     "name": "stdout",
     "output_type": "stream",
     "text": [
      "pygame 2.5.2 (SDL 2.28.3, Python 3.11.5)\n",
      "Hello from the pygame community. https://www.pygame.org/contribute.html\n"
     ]
    }
   ],
   "source": [
    "import os\n",
    "import cv2\n",
    "from deepface import DeepFace\n",
    "import FaceNormalizationUtils as faceutils\n",
    "import numpy as np\n",
    "import FaceDetectors\n",
    "import pygame\n"
   ]
  },
  {
   "cell_type": "code",
   "execution_count": 7,
   "metadata": {},
   "outputs": [
    {
     "name": "stderr",
     "output_type": "stream",
     "text": [
      "Action: race: 100%|██████████| 1/1 [00:01<00:00,  1.18s/it]\n"
     ]
    },
    {
     "name": "stdout",
     "output_type": "stream",
     "text": [
      "Cambiando fondo\n"
     ]
    },
    {
     "name": "stderr",
     "output_type": "stream",
     "text": [
      "Action: race: 100%|██████████| 1/1 [00:00<00:00,  1.60it/s]\n",
      "Action: race: 100%|██████████| 1/1 [00:00<00:00,  1.75it/s]\n",
      "Action: race: 100%|██████████| 1/1 [00:00<00:00,  1.87it/s]\n",
      "Action: race: 100%|██████████| 1/1 [00:00<00:00,  1.83it/s]\n",
      "Action: race: 100%|██████████| 1/1 [00:00<00:00,  1.78it/s]\n",
      "Action: race: 100%|██████████| 1/1 [00:00<00:00,  1.81it/s]\n",
      "Action: race: 100%|██████████| 1/1 [00:00<00:00,  1.81it/s]\n",
      "Action: race: 100%|██████████| 1/1 [00:00<00:00,  1.38it/s]\n",
      "Action: race: 100%|██████████| 1/1 [00:01<00:00,  1.15s/it]\n",
      "Action: race: 100%|██████████| 1/1 [00:01<00:00,  1.18s/it]\n",
      "Action: race: 100%|██████████| 1/1 [00:01<00:00,  1.37s/it]\n",
      "Action: race: 100%|██████████| 1/1 [00:01<00:00,  1.16s/it]\n"
     ]
    },
    {
     "name": "stdout",
     "output_type": "stream",
     "text": [
      "Cambiando fondo\n"
     ]
    },
    {
     "name": "stderr",
     "output_type": "stream",
     "text": [
      "Action: race: 100%|██████████| 1/1 [00:00<00:00,  1.68it/s]\n",
      "Action: race: 100%|██████████| 1/1 [00:00<00:00,  1.84it/s]\n",
      "Action: race: 100%|██████████| 1/1 [00:00<00:00,  1.85it/s]\n",
      "Action: race: 100%|██████████| 1/1 [00:00<00:00,  1.76it/s]\n",
      "Action: race: 100%|██████████| 1/1 [00:00<00:00,  1.81it/s]\n",
      "Action: race: 100%|██████████| 1/1 [00:00<00:00,  1.83it/s]\n",
      "Action: race: 100%|██████████| 1/1 [00:00<00:00,  1.74it/s]"
     ]
    },
    {
     "name": "stdout",
     "output_type": "stream",
     "text": [
      "Cambiando fondo\n"
     ]
    },
    {
     "name": "stderr",
     "output_type": "stream",
     "text": [
      "\n",
      "Action: race: 100%|██████████| 1/1 [00:00<00:00,  1.76it/s]\n",
      "Action: race: 100%|██████████| 1/1 [00:00<00:00,  1.82it/s]\n",
      "Action: race: 100%|██████████| 1/1 [00:00<00:00,  1.86it/s]\n",
      "Action: race: 100%|██████████| 1/1 [00:00<00:00,  1.78it/s]\n",
      "Action: race: 100%|██████████| 1/1 [00:00<00:00,  1.67it/s]\n",
      "Action: race: 100%|██████████| 1/1 [00:00<00:00,  1.64it/s]\n",
      "Action: race: 100%|██████████| 1/1 [00:00<00:00,  1.86it/s]\n",
      "Action: race: 100%|██████████| 1/1 [00:01<00:00,  1.25s/it]\n",
      "Action: race: 100%|██████████| 1/1 [00:01<00:00,  1.41s/it]\n"
     ]
    }
   ],
   "source": [
    "import cv2\n",
    "import threading\n",
    "import time\n",
    "from deepface import DeepFace\n",
    "\n",
    "# Initialize normalization\n",
    "normalizatorHS = faceutils.Normalization()\n",
    "\n",
    "# Initialize face detector\n",
    "FDet = FaceDetectors.FaceDetector()\n",
    "\n",
    "# Fonts\n",
    "font = cv2.FONT_HERSHEY_SIMPLEX\n",
    "\n",
    "# Webcam connection\n",
    "cap = cv2.VideoCapture(0)\n",
    "\n",
    "# Set camera resolution\n",
    "cap.set(3, 640)\n",
    "cap.set(4, 480)\n",
    "\n",
    "# Inicializar fondo predeterminado\n",
    "wano = cv2.imread('media/wano.jpg')\n",
    "wano = cv2.resize(wano, (int(cap.get(3)), int(cap.get(4))))\n",
    "\n",
    "# Variable para almacenar el fondo actual\n",
    "background = wano\n",
    "\n",
    "# Variable para almacenar la raza detectada\n",
    "race_detected = \"\"\n",
    "\n",
    "\n",
    "canciones = {\n",
    "    'asian': 'songs/china.mp3',\n",
    "    'black': 'songs/africa.mp3',\n",
    "    'white': 'songs/blanco.mp3',\n",
    "    'indian': 'songs/india.mp3',\n",
    "    'middle eastern': 'songs/moro.mp3',\n",
    "    'latino hispanic': 'songs/macaco.mp3',\n",
    "}\n",
    "\n",
    "\n",
    "cancion_predeterminada = ''\n",
    "prev_race = ''\n",
    "\n",
    "# Inicializar Pygame\n",
    "pygame.mixer.init()\n",
    "\n",
    "\n",
    "# Función para cambiar el fondo cada 5 segundos\n",
    "def cambiar_fondo():\n",
    "    global background, race_detected, prev_race\n",
    "    while True:\n",
    "        \n",
    "        # Lógica para cambiar el fondo según la raza detectada\n",
    "        if race_detected != prev_race:\n",
    "            prev_race = race_detected\n",
    "            print('Cambiando fondo')\n",
    "            if race_detected == \"asian\":\n",
    "                background = cv2.imread('media/wano.jpg')\n",
    "            elif race_detected == \"black\":\n",
    "                background = cv2.imread('media/savannah.jpg')\n",
    "            elif race_detected == \"white\":\n",
    "                background = cv2.imread('media/de_blanco.jpg')\n",
    "            elif race_detected == \"indian\":\n",
    "                background = cv2.imread('media/Taj_Mahal.jpg')\n",
    "            elif race_detected == \"middle eastern\":\n",
    "                background = cv2.imread('media/mezquita.jpg')\n",
    "            elif race_detected == \"latino hispanic\":\n",
    "                background = cv2.imread('media/brazil.jpg')\n",
    "\n",
    "            background = cv2.resize(background, (int(cap.get(3)), int(cap.get(4))))\n",
    "\n",
    "\n",
    "            cancion_actual = canciones.get(race_detected, cancion_predeterminada)\n",
    "            pygame.mixer.music.load(cancion_actual)\n",
    "            pygame.mixer.music.play()\n",
    "            # Esperar 5 segundos antes de cambiar el fondo nuevamente\n",
    "            time.sleep(5)\n",
    "\n",
    "# Crear un hilo para cambiar el fondo cada 5 segundos\n",
    "fondo_thread = threading.Thread(target=cambiar_fondo)\n",
    "fondo_thread.start()\n",
    "\n",
    "while True:\n",
    "    # Obtener el frame actual\n",
    "    ret, frame = cap.read()\n",
    "\n",
    "    # Para HS normalization\n",
    "    B, G, R = cv2.split(frame)\n",
    "    result = frame.copy()\n",
    "    values = FDet.SingleFaceEyesDetection(frame, FDet.FaceDetectors[1], FDet.EyeDetectors[1])\n",
    "\n",
    "    if values is not None:\n",
    "        face, eyes, shape = values\n",
    "\n",
    "        # Dibujar el contenedor de la cara\n",
    "        [x, y, w, h] = face\n",
    "        if x > -1:\n",
    "            cv2.rectangle(result, (x, y), (x + w, y + h), (255, 0, 0), 2)\n",
    "            face_roi = frame[y:y+h, x:x+w]\n",
    "\n",
    "            # Ejemplo de análisis de raza utilizando DeepFace\n",
    "            obj = DeepFace.analyze(img_path=face_roi, enforce_detection=False, actions=['race'])\n",
    "            race_detected = obj[0][\"dominant_race\"]\n",
    "\n",
    "            # Superponer la región de la cara en el fondo\n",
    "            background = cv2.resize(background, (int(cap.get(3)), int(cap.get(4))))\n",
    "            result = background.copy()\n",
    "            result[y:y+h, x:x+w] = cv2.addWeighted(face_roi, 0.9, result[y:y+h, x:x+w], 0.1, 0)\n",
    "\n",
    "    # Mostrar el resultado\n",
    "    cv2.imshow('Result', result)\n",
    "\n",
    "    # Presionar 'Esc' para finalizar\n",
    "    key = cv2.waitKey(40)\n",
    "    if key == 27:  # Esc\n",
    "        break\n",
    "\n",
    "# Cerrar ventanas y liberar la cámara\n",
    "\n",
    "pygame.mixer.music.stop()\n",
    "pygame.mixer.quit()\n",
    "cap.release()\n",
    "cv2.destroyAllWindows()\n",
    "\n"
   ]
  },
  {
   "cell_type": "code",
   "execution_count": null,
   "metadata": {},
   "outputs": [],
   "source": [
    "\n",
    "cap = cv2.VideoCapture(0)\n",
    "background = cv2.imread('media/africa.jpg')\n",
    "background = cv2.resize(background, (int(cap.get(3)), int(cap.get(4))))\n",
    "\n",
    "while True:\n",
    "    ret, frame = cap.read()\n",
    "    result = cv2.addWeighted(frame, 0.8, background, 0.7, 0)\n",
    "\n",
    "    cv2.imshow('Result', result)\n",
    "\n",
    "    if cv2.waitKey(1) & 0xFF == ord('q'):\n",
    "        break\n",
    "\n",
    "cap.release()\n",
    "cv2.destroyAllWindows()"
   ]
  },
  {
   "cell_type": "code",
   "execution_count": null,
   "metadata": {},
   "outputs": [],
   "source": [
    "folder = './media'\n",
    "\n",
    "print(folder)\n",
    "\n",
    "for file_name in os.listdir(folder):\n",
    "    # Asume imágenes en formato png o jpg\n",
    "    if file_name.endswith('.png') or file_name.endswith('.jpg'):\n",
    "        # Procesa la imagen que asume hay cara, no fuerza la detección\n",
    "        obj = DeepFace.analyze(img_path = os.path.join(folder, file_name), enforce_detection=False, actions =['race'])\n",
    "        print(file_name)\n",
    "        print(obj[0]['race'])\n",
    "       \n",
    "    "
   ]
  }
 ],
 "metadata": {
  "kernelspec": {
   "display_name": "VC_practica1",
   "language": "python",
   "name": "python3"
  },
  "language_info": {
   "codemirror_mode": {
    "name": "ipython",
    "version": 3
   },
   "file_extension": ".py",
   "mimetype": "text/x-python",
   "name": "python",
   "nbconvert_exporter": "python",
   "pygments_lexer": "ipython3",
   "version": "3.11.5"
  }
 },
 "nbformat": 4,
 "nbformat_minor": 2
}
