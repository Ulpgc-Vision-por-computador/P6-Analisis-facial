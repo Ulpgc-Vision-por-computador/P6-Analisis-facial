{
 "cells": [
  {
   "cell_type": "code",
   "execution_count": null,
   "metadata": {},
   "outputs": [],
   "source": [
    "import os\n",
    "import cv2\n",
    "from deepface import DeepFace\n",
    "import FaceNormalizationUtils as faceutils\n",
    "import numpy as np\n",
    "import FaceDetectors\n"
   ]
  },
  {
   "cell_type": "code",
   "execution_count": 15,
   "metadata": {},
   "outputs": [
    {
     "name": "stderr",
     "output_type": "stream",
     "text": [
      "Action: race: 100%|██████████| 1/1 [00:01<00:00,  1.68s/it]\n",
      "Action: race: 100%|██████████| 1/1 [00:03<00:00,  3.08s/it]\n",
      "Action: race: 100%|██████████| 1/1 [00:00<00:00,  3.31it/s]\n",
      "Action: race: 100%|██████████| 1/1 [00:00<00:00,  3.72it/s]\n",
      "Action: race: 100%|██████████| 1/1 [00:00<00:00,  3.83it/s]\n",
      "Action: race: 100%|██████████| 1/1 [00:00<00:00,  3.14it/s]\n",
      "Action: race: 100%|██████████| 1/1 [00:00<00:00,  3.58it/s]\n",
      "Action: race: 100%|██████████| 1/1 [00:00<00:00,  3.92it/s]\n",
      "Action: race: 100%|██████████| 1/1 [00:00<00:00,  3.62it/s]\n",
      "Action: race: 100%|██████████| 1/1 [00:00<00:00,  3.86it/s]\n",
      "Action: race: 100%|██████████| 1/1 [00:00<00:00,  3.31it/s]\n",
      "Action: race: 100%|██████████| 1/1 [00:00<00:00,  3.93it/s]\n",
      "Action: race: 100%|██████████| 1/1 [00:00<00:00,  3.69it/s]\n",
      "Action: race: 100%|██████████| 1/1 [00:00<00:00,  3.44it/s]\n",
      "Action: race: 100%|██████████| 1/1 [00:00<00:00,  3.66it/s]\n",
      "Action: race: 100%|██████████| 1/1 [00:00<00:00,  3.77it/s]\n",
      "Action: race: 100%|██████████| 1/1 [00:00<00:00,  3.96it/s]\n",
      "Action: race: 100%|██████████| 1/1 [00:00<00:00,  3.93it/s]\n",
      "Action: race: 100%|██████████| 1/1 [00:00<00:00,  3.51it/s]\n",
      "Action: race: 100%|██████████| 1/1 [00:00<00:00,  3.96it/s]\n",
      "Action: race: 100%|██████████| 1/1 [00:00<00:00,  3.79it/s]\n",
      "Action: race: 100%|██████████| 1/1 [00:00<00:00,  4.00it/s]\n",
      "Action: race: 100%|██████████| 1/1 [00:00<00:00,  4.24it/s]\n",
      "Action: race: 100%|██████████| 1/1 [00:00<00:00,  4.01it/s]\n",
      "Action: race: 100%|██████████| 1/1 [00:00<00:00,  4.10it/s]\n",
      "Action: race: 100%|██████████| 1/1 [00:00<00:00,  3.87it/s]\n",
      "Action: race: 100%|██████████| 1/1 [00:00<00:00,  3.77it/s]\n",
      "Action: race: 100%|██████████| 1/1 [00:00<00:00,  3.60it/s]\n",
      "Action: race: 100%|██████████| 1/1 [00:00<00:00,  4.08it/s]\n",
      "Action: race: 100%|██████████| 1/1 [00:00<00:00,  3.99it/s]\n",
      "Action: race: 100%|██████████| 1/1 [00:00<00:00,  3.76it/s]\n",
      "Action: race: 100%|██████████| 1/1 [00:00<00:00,  3.99it/s]\n",
      "Action: race: 100%|██████████| 1/1 [00:00<00:00,  3.80it/s]\n",
      "Action: race: 100%|██████████| 1/1 [00:00<00:00,  3.89it/s]\n",
      "Action: race: 100%|██████████| 1/1 [00:00<00:00,  4.19it/s]\n",
      "Action: race: 100%|██████████| 1/1 [00:00<00:00,  3.94it/s]\n",
      "Action: race: 100%|██████████| 1/1 [00:00<00:00,  4.08it/s]\n",
      "Action: race: 100%|██████████| 1/1 [00:00<00:00,  3.95it/s]\n",
      "Action: race: 100%|██████████| 1/1 [00:00<00:00,  4.13it/s]\n",
      "Action: race: 100%|██████████| 1/1 [00:00<00:00,  3.92it/s]\n",
      "Action: race: 100%|██████████| 1/1 [00:00<00:00,  3.88it/s]\n",
      "Action: race: 100%|██████████| 1/1 [00:00<00:00,  3.84it/s]\n",
      "Action: race: 100%|██████████| 1/1 [00:00<00:00,  4.10it/s]\n",
      "Action: race: 100%|██████████| 1/1 [00:00<00:00,  4.17it/s]\n",
      "Action: race: 100%|██████████| 1/1 [00:00<00:00,  3.93it/s]\n",
      "Action: race: 100%|██████████| 1/1 [00:00<00:00,  4.18it/s]\n",
      "Action: race: 100%|██████████| 1/1 [00:00<00:00,  4.02it/s]\n",
      "Action: race: 100%|██████████| 1/1 [00:00<00:00,  4.04it/s]\n",
      "Action: race: 100%|██████████| 1/1 [00:00<00:00,  4.12it/s]\n",
      "Action: race: 100%|██████████| 1/1 [00:00<00:00,  4.04it/s]\n",
      "Action: race: 100%|██████████| 1/1 [00:00<00:00,  4.12it/s]\n",
      "Action: race: 100%|██████████| 1/1 [00:00<00:00,  3.96it/s]\n",
      "Action: race: 100%|██████████| 1/1 [00:00<00:00,  3.82it/s]\n",
      "Action: race: 100%|██████████| 1/1 [00:00<00:00,  4.01it/s]\n",
      "Action: race: 100%|██████████| 1/1 [00:00<00:00,  3.74it/s]\n",
      "Action: race: 100%|██████████| 1/1 [00:00<00:00,  3.91it/s]\n",
      "Action: race: 100%|██████████| 1/1 [00:00<00:00,  3.84it/s]\n",
      "Action: race: 100%|██████████| 1/1 [00:00<00:00,  3.99it/s]\n",
      "Action: race: 100%|██████████| 1/1 [00:00<00:00,  3.69it/s]\n",
      "Action: race: 100%|██████████| 1/1 [00:00<00:00,  3.85it/s]\n",
      "Action: race: 100%|██████████| 1/1 [00:00<00:00,  3.90it/s]\n",
      "Action: race: 100%|██████████| 1/1 [00:00<00:00,  3.66it/s]\n",
      "Action: race: 100%|██████████| 1/1 [00:00<00:00,  4.06it/s]\n",
      "Action: race: 100%|██████████| 1/1 [00:00<00:00,  4.06it/s]\n",
      "Action: race: 100%|██████████| 1/1 [00:00<00:00,  4.08it/s]\n",
      "Action: race: 100%|██████████| 1/1 [00:00<00:00,  4.08it/s]\n",
      "Action: race: 100%|██████████| 1/1 [00:00<00:00,  4.15it/s]\n",
      "Action: race: 100%|██████████| 1/1 [00:00<00:00,  4.04it/s]\n",
      "Action: race: 100%|██████████| 1/1 [00:00<00:00,  4.09it/s]\n",
      "Action: race: 100%|██████████| 1/1 [00:00<00:00,  4.17it/s]\n",
      "Action: race: 100%|██████████| 1/1 [00:00<00:00,  4.05it/s]\n",
      "Action: race: 100%|██████████| 1/1 [00:00<00:00,  4.23it/s]\n",
      "Action: race: 100%|██████████| 1/1 [00:00<00:00,  3.45it/s]\n",
      "Action: race: 100%|██████████| 1/1 [00:00<00:00,  4.20it/s]\n",
      "Action: race: 100%|██████████| 1/1 [00:00<00:00,  4.04it/s]\n",
      "Action: race: 100%|██████████| 1/1 [00:00<00:00,  4.15it/s]\n",
      "Action: race: 100%|██████████| 1/1 [00:00<00:00,  4.07it/s]\n",
      "Action: race: 100%|██████████| 1/1 [00:00<00:00,  3.99it/s]\n",
      "Action: race: 100%|██████████| 1/1 [00:00<00:00,  3.75it/s]\n",
      "Action: race: 100%|██████████| 1/1 [00:00<00:00,  3.99it/s]\n",
      "Action: race: 100%|██████████| 1/1 [00:00<00:00,  4.20it/s]\n",
      "Action: race: 100%|██████████| 1/1 [00:00<00:00,  3.97it/s]\n",
      "Action: race: 100%|██████████| 1/1 [00:00<00:00,  3.98it/s]\n",
      "Action: race: 100%|██████████| 1/1 [00:00<00:00,  3.85it/s]\n",
      "Action: race: 100%|██████████| 1/1 [00:00<00:00,  3.99it/s]\n",
      "Action: race: 100%|██████████| 1/1 [00:00<00:00,  4.01it/s]\n",
      "Action: race: 100%|██████████| 1/1 [00:00<00:00,  3.81it/s]\n",
      "Action: race: 100%|██████████| 1/1 [00:00<00:00,  3.80it/s]\n",
      "Action: race: 100%|██████████| 1/1 [00:00<00:00,  3.89it/s]\n",
      "Action: race: 100%|██████████| 1/1 [00:00<00:00,  4.01it/s]\n",
      "Action: race: 100%|██████████| 1/1 [00:00<00:00,  4.08it/s]\n",
      "Action: race: 100%|██████████| 1/1 [00:00<00:00,  4.00it/s]\n",
      "Action: race: 100%|██████████| 1/1 [00:00<00:00,  4.01it/s]\n",
      "Action: race: 100%|██████████| 1/1 [00:00<00:00,  4.12it/s]\n",
      "Action: race: 100%|██████████| 1/1 [00:00<00:00,  4.10it/s]\n",
      "Action: race: 100%|██████████| 1/1 [00:00<00:00,  3.98it/s]\n",
      "Action: race: 100%|██████████| 1/1 [00:00<00:00,  3.87it/s]\n",
      "Action: race: 100%|██████████| 1/1 [00:00<00:00,  4.20it/s]\n"
     ]
    }
   ],
   "source": [
    "# Initialize normalization\n",
    "normalizatorHS = faceutils.Normalization()\n",
    "\n",
    "# Initialize face detector\n",
    "FDet = FaceDetectors.FaceDetector()\n",
    "\n",
    "# Fonts\n",
    "font = cv2.FONT_HERSHEY_SIMPLEX\n",
    "\n",
    "\n",
    "# Webcam connection\n",
    "cap = cv2.VideoCapture(0)\n",
    "\n",
    "# Set camera resolution\n",
    "cap.set(3, 640)\n",
    "cap.set(4, 480)\n",
    "\n",
    "while True:\n",
    "    # Get frame\n",
    "    ret, frame = cap.read()\n",
    "\n",
    "    # For HS normalization\n",
    "    B, G, R = cv2.split(frame)\n",
    "    result = frame.copy()\n",
    "    values = FDet.SingleFaceEyesDetection(frame, FDet.FaceDetectors[1], FDet.EyeDetectors[1])\n",
    "\n",
    "\n",
    "    if values is not None:\n",
    "\n",
    "        face, eyes, shape = values\n",
    "\n",
    "        #draws face container\n",
    "        [x, y , w, h] = face\n",
    "        if x > -1:\n",
    "            cv2.rectangle(result, (x, y), (x + w, y + h), (255, 0, 0), 2)\n",
    "            face_roi = frame[y:y+h, x:x+w]\n",
    "            obj = DeepFace.analyze(img_path = face_roi, enforce_detection=False, actions =['race'])\n",
    "            race_detected = obj[0][\"dominant_race\"]\n",
    "            if race_detected == \"asian\":\n",
    "                background = cv2.imread('media/wano.jpg')\n",
    "\n",
    "            elif race_detected == \"black\":\n",
    "                background = cv2.imread('media/savannah.jpg')\n",
    "\n",
    "            elif race_detected == \"white\":\n",
    "                background = cv2.imread('media/de_blanco.jpg')\n",
    "\n",
    "            elif race_detected == \"indian\":\n",
    "                background = cv2.imread('media/Taj_Mahal.jpg')\n",
    "\n",
    "            elif race_detected == \"middle eastern\":\n",
    "                background = cv2.imread('media/mezquita.jpg')\n",
    "\n",
    "            elif race_detected == \"latino hispanic\":\n",
    "                background = cv2.imread('media/brazil.jpg')\n",
    "\n",
    "            background = cv2.resize(background, (int(cap.get(3)), int(cap.get(4))))\n",
    "            result = background.copy()\n",
    "            result[y:y+h, x:x+w] = cv2.addWeighted(face_roi, 0.9, result[y:y+h, x:x+w], 0.1, 0)\n",
    "    \n",
    "    cv2.imshow('Result', result)\n",
    "\n",
    "    # Press 'Esc' to finish\n",
    "    key = cv2.waitKey(40)\n",
    "    if key == 27:  # Esc\n",
    "        break\n",
    "\n",
    "# Close windows and release the camera\n",
    "cap.release()\n",
    "cv2.destroyAllWindows()\n"
   ]
  },
  {
   "cell_type": "code",
   "execution_count": null,
   "metadata": {},
   "outputs": [],
   "source": [
    "\n",
    "cap = cv2.VideoCapture(0)\n",
    "background = cv2.imread('media/africa.jpg')\n",
    "background = cv2.resize(background, (int(cap.get(3)), int(cap.get(4))))\n",
    "\n",
    "while True:\n",
    "    ret, frame = cap.read()\n",
    "    result = cv2.addWeighted(frame, 0.8, background, 0.7, 0)\n",
    "\n",
    "    cv2.imshow('Result', result)\n",
    "\n",
    "    if cv2.waitKey(1) & 0xFF == ord('q'):\n",
    "        break\n",
    "\n",
    "cap.release()\n",
    "cv2.destroyAllWindows()"
   ]
  },
  {
   "cell_type": "code",
   "execution_count": 14,
   "metadata": {},
   "outputs": [
    {
     "name": "stdout",
     "output_type": "stream",
     "text": [
      "./media\n"
     ]
    },
    {
     "name": "stderr",
     "output_type": "stream",
     "text": [
      "Action: race: 100%|██████████| 1/1 [00:03<00:00,  3.44s/it]\n"
     ]
    },
    {
     "name": "stdout",
     "output_type": "stream",
     "text": [
      "brazil.jpg\n",
      "{'asian': 0.18457091646268964, 'indian': 1.1787673458456993, 'black': 0.13584352564066648, 'white': 58.97362232208252, 'middle eastern': 29.39012348651886, 'latino hispanic': 10.13706848025322}\n"
     ]
    },
    {
     "name": "stderr",
     "output_type": "stream",
     "text": [
      "Action: race: 100%|██████████| 1/1 [00:00<00:00,  1.87it/s]\n"
     ]
    },
    {
     "name": "stdout",
     "output_type": "stream",
     "text": [
      "de_blanco.jpg\n",
      "{'asian': 11.085090041160583, 'indian': 3.897593542933464, 'black': 68.75017881393433, 'white': 9.162162989377975, 'middle eastern': 2.2778326645493507, 'latino hispanic': 4.827144369482994}\n"
     ]
    },
    {
     "name": "stderr",
     "output_type": "stream",
     "text": [
      "Action: race: 100%|██████████| 1/1 [00:00<00:00,  2.53it/s]\n"
     ]
    },
    {
     "name": "stdout",
     "output_type": "stream",
     "text": [
      "face1.jpg\n",
      "{'asian': 0.0015868966365804754, 'indian': 0.0673560640409478, 'black': 99.90632533468755, 'white': 2.566224719139521e-05, 'middle eastern': 1.756584387175748e-05, 'latino hispanic': 0.024690809385116957}\n"
     ]
    },
    {
     "name": "stderr",
     "output_type": "stream",
     "text": [
      "Action: race: 100%|██████████| 1/1 [00:00<00:00,  2.43it/s]\n"
     ]
    },
    {
     "name": "stdout",
     "output_type": "stream",
     "text": [
      "mezquita.jpg\n",
      "{'asian': 0.0784382969327746, 'indian': 3.460480322051843e-05, 'black': 2.700523699087645e-06, 'white': 99.43375584088301, 'middle eastern': 0.09503469903228873, 'latino hispanic': 0.39273647138395734}\n"
     ]
    },
    {
     "name": "stderr",
     "output_type": "stream",
     "text": [
      "Action: race: 100%|██████████| 1/1 [00:02<00:00,  2.06s/it]\n"
     ]
    },
    {
     "name": "stdout",
     "output_type": "stream",
     "text": [
      "savannah.jpg\n",
      "{'asian': 4.079829399575555, 'indian': 3.556512508184463, 'black': 1.0572596151983509, 'white': 41.66265378371798, 'middle eastern': 28.72076801781464, 'latino hispanic': 20.9229779793607}\n"
     ]
    },
    {
     "name": "stderr",
     "output_type": "stream",
     "text": [
      "Action: race: 100%|██████████| 1/1 [00:01<00:00,  1.92s/it]\n"
     ]
    },
    {
     "name": "stdout",
     "output_type": "stream",
     "text": [
      "Taj_Mahal.jpg\n",
      "{'asian': 1.2094603851437569, 'indian': 1.6810433939099312, 'black': 0.17503321869298816, 'white': 55.784791707992554, 'middle eastern': 33.10583233833313, 'latino hispanic': 8.043842017650604}\n"
     ]
    },
    {
     "name": "stderr",
     "output_type": "stream",
     "text": [
      "Action: race: 100%|██████████| 1/1 [00:00<00:00,  2.52it/s]"
     ]
    },
    {
     "name": "stdout",
     "output_type": "stream",
     "text": [
      "wano.jpg\n",
      "{'asian': 0.1189013128168881, 'indian': 0.4676187876611948, 'black': 0.005580256402026862, 'white': 68.56342554092407, 'middle eastern': 21.805012226104736, 'latino hispanic': 9.039466828107834}\n"
     ]
    },
    {
     "name": "stderr",
     "output_type": "stream",
     "text": [
      "\n"
     ]
    }
   ],
   "source": [
    "folder = './media'\n",
    "\n",
    "print(folder)\n",
    "\n",
    "for file_name in os.listdir(folder):\n",
    "    # Asume imágenes en formato png o jpg\n",
    "    if file_name.endswith('.png') or file_name.endswith('.jpg'):\n",
    "        # Procesa la imagen que asume hay cara, no fuerza la detección\n",
    "        obj = DeepFace.analyze(img_path = os.path.join(folder, file_name), enforce_detection=False, actions =['race'])\n",
    "        print(file_name)\n",
    "        print(obj[0]['race'])\n",
    "       \n",
    "    "
   ]
  }
 ],
 "metadata": {
  "kernelspec": {
   "display_name": "VC_practica1",
   "language": "python",
   "name": "python3"
  },
  "language_info": {
   "codemirror_mode": {
    "name": "ipython",
    "version": 3
   },
   "file_extension": ".py",
   "mimetype": "text/x-python",
   "name": "python",
   "nbconvert_exporter": "python",
   "pygments_lexer": "ipython3",
   "version": "3.11.5"
  }
 },
 "nbformat": 4,
 "nbformat_minor": 2
}
